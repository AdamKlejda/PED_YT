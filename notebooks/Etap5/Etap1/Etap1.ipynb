{
 "cells": [
  {
   "cell_type": "markdown",
   "metadata": {},
   "source": [
    "## Importy"
   ]
  },
  {
   "cell_type": "code",
   "execution_count": 1,
   "metadata": {},
   "outputs": [
    {
     "name": "stderr",
     "output_type": "stream",
     "text": [
      "[nltk_data] Downloading package wordnet to /home/lilatee/nltk_data...\n",
      "[nltk_data]   Package wordnet is already up-to-date!\n",
      "[nltk_data] Downloading package stopwords to\n",
      "[nltk_data]     /home/lilatee/nltk_data...\n",
      "[nltk_data]   Package stopwords is already up-to-date!\n"
     ]
    }
   ],
   "source": [
    "import pandas as pd\n",
    "import numpy as np\n",
    "import string\n",
    "import json\n",
    "from IPython.display import display\n",
    "from nltk.stem import WordNetLemmatizer\n",
    "import nltk\n",
    "nltk.download('wordnet')\n",
    "nltk.download('stopwords')\n",
    "from nltk.corpus import stopwords\n",
    "from emoji import UNICODE_EMOJI\n",
    "import re\n",
    "import seaborn as sns\n",
    "import matplotlib.pyplot as plt\n",
    "from collections import Counter\n",
    "from  datetime import datetime\n",
    "\n",
    "pd.options.display.max_columns = None\n",
    "# Use 'display(df)' instead of 'df' to display all columns."
   ]
  },
  {
   "cell_type": "markdown",
   "metadata": {},
   "source": [
    "## Ładowanie danych"
   ]
  },
  {
   "cell_type": "code",
   "execution_count": 2,
   "metadata": {},
   "outputs": [
    {
     "name": "stdout",
     "output_type": "stream",
     "text": [
      "(8474, 17)\n"
     ]
    },
    {
     "data": {
      "text/html": [
       "<div>\n",
       "<style scoped>\n",
       "    .dataframe tbody tr th:only-of-type {\n",
       "        vertical-align: middle;\n",
       "    }\n",
       "\n",
       "    .dataframe tbody tr th {\n",
       "        vertical-align: top;\n",
       "    }\n",
       "\n",
       "    .dataframe thead th {\n",
       "        text-align: right;\n",
       "    }\n",
       "</style>\n",
       "<table border=\"1\" class=\"dataframe\">\n",
       "  <thead>\n",
       "    <tr style=\"text-align: right;\">\n",
       "      <th></th>\n",
       "      <th>video_id</th>\n",
       "      <th>trending_date</th>\n",
       "      <th>title</th>\n",
       "      <th>channel_title</th>\n",
       "      <th>category_id</th>\n",
       "      <th>publish_time</th>\n",
       "      <th>tags</th>\n",
       "      <th>views</th>\n",
       "      <th>likes</th>\n",
       "      <th>dislikes</th>\n",
       "      <th>comment_count</th>\n",
       "      <th>thumbnail_link</th>\n",
       "      <th>comments_disabled</th>\n",
       "      <th>ratings_disabled</th>\n",
       "      <th>video_error_or_removed</th>\n",
       "      <th>description</th>\n",
       "      <th>relatedTo</th>\n",
       "    </tr>\n",
       "  </thead>\n",
       "  <tbody>\n",
       "    <tr>\n",
       "      <th>0</th>\n",
       "      <td>tOpTQ3Fuf9s</td>\n",
       "      <td>NaN</td>\n",
       "      <td>NCT 2018 엔시티 2018 &amp;#39;Black on Black&amp;#39; Dan...</td>\n",
       "      <td>SMTOWN</td>\n",
       "      <td>10</td>\n",
       "      <td>2018-04-22 12:00:03</td>\n",
       "      <td>[\"NCT\", \"NCT 2018\", \"TAEYONG\", \"JAEHYUN\", \"JUN...</td>\n",
       "      <td>23641741.0</td>\n",
       "      <td>687477.0</td>\n",
       "      <td>2758.0</td>\n",
       "      <td>19889.0</td>\n",
       "      <td>https://i.ytimg.com/vi/tOpTQ3Fuf9s/default.jpg</td>\n",
       "      <td>NaN</td>\n",
       "      <td>NaN</td>\n",
       "      <td>NaN</td>\n",
       "      <td>NCT 2018 엔시티 2018 'Black on Black' Dance Pract...</td>\n",
       "      <td>NaN</td>\n",
       "    </tr>\n",
       "  </tbody>\n",
       "</table>\n",
       "</div>"
      ],
      "text/plain": [
       "      video_id  trending_date  \\\n",
       "0  tOpTQ3Fuf9s            NaN   \n",
       "\n",
       "                                               title channel_title  \\\n",
       "0  NCT 2018 엔시티 2018 &#39;Black on Black&#39; Dan...        SMTOWN   \n",
       "\n",
       "   category_id         publish_time  \\\n",
       "0           10  2018-04-22 12:00:03   \n",
       "\n",
       "                                                tags       views     likes  \\\n",
       "0  [\"NCT\", \"NCT 2018\", \"TAEYONG\", \"JAEHYUN\", \"JUN...  23641741.0  687477.0   \n",
       "\n",
       "   dislikes  comment_count                                  thumbnail_link  \\\n",
       "0    2758.0        19889.0  https://i.ytimg.com/vi/tOpTQ3Fuf9s/default.jpg   \n",
       "\n",
       "   comments_disabled  ratings_disabled  video_error_or_removed  \\\n",
       "0                NaN               NaN                     NaN   \n",
       "\n",
       "                                         description relatedTo  \n",
       "0  NCT 2018 엔시티 2018 'Black on Black' Dance Pract...       NaN  "
      ]
     },
     "execution_count": 2,
     "metadata": {},
     "output_type": "execute_result"
    }
   ],
   "source": [
    "# Encoding error. Open GB_videos_5p.csv in VSCode and save file as UTF-16 LE.\n",
    "df = pd.read_csv(\"../../../our_data/Etap5/clean_our_BS.csv\")\n",
    "print(df.shape)\n",
    "df.head(1)"
   ]
  },
  {
   "cell_type": "markdown",
   "metadata": {},
   "source": [
    "### Sprawdzanie NANów"
   ]
  },
  {
   "cell_type": "code",
   "execution_count": 3,
   "metadata": {},
   "outputs": [
    {
     "name": "stdout",
     "output_type": "stream",
     "text": [
      "video_id:, False 0\n",
      "trending_date:, True 8474\n",
      "title:, False 0\n",
      "channel_title:, False 0\n",
      "category_id:, False 0\n",
      "publish_time:, False 0\n",
      "tags:, True 549\n",
      "views:, True 17\n",
      "likes:, True 77\n",
      "dislikes:, True 77\n",
      "comment_count:, True 308\n",
      "thumbnail_link:, False 0\n",
      "comments_disabled:, True 8474\n",
      "ratings_disabled:, True 8474\n",
      "video_error_or_removed:, True 8474\n",
      "description:, True 201\n",
      "relatedTo:, True 6266\n"
     ]
    }
   ],
   "source": [
    "for col in df.columns:\n",
    "    temp = df[col].isna()\n",
    "    print(f\"{col}:, {temp.any()} {temp.sum()}\")"
   ]
  },
  {
   "cell_type": "code",
   "execution_count": 4,
   "metadata": {},
   "outputs": [],
   "source": [
    "df[\"description\"] = df[\"description\"].fillna(\"\") "
   ]
  },
  {
   "cell_type": "code",
   "execution_count": 5,
   "metadata": {},
   "outputs": [],
   "source": [
    "df.loc[df.tags.isna(), 'tags',] = json.dumps([])\n",
    "df.loc[df.description.isna(), 'description'] = ''\n",
    "\n",
    "df.loc[df.views.isna(), 'views'] = 0\n",
    "df.loc[df.likes.isna(), 'likes'] = 0\n",
    "df.loc[df.dislikes.isna(), 'dislikes'] = 0\n",
    "df.loc[df.comment_count.isna(), 'comment_count', ] = 0"
   ]
  },
  {
   "cell_type": "code",
   "execution_count": 6,
   "metadata": {},
   "outputs": [
    {
     "name": "stdout",
     "output_type": "stream",
     "text": [
      "video_id:, False 0\n",
      "trending_date:, True 8474\n",
      "title:, False 0\n",
      "channel_title:, False 0\n",
      "category_id:, False 0\n",
      "publish_time:, False 0\n",
      "tags:, False 0\n",
      "views:, False 0\n",
      "likes:, False 0\n",
      "dislikes:, False 0\n",
      "comment_count:, False 0\n",
      "thumbnail_link:, False 0\n",
      "comments_disabled:, True 8474\n",
      "ratings_disabled:, True 8474\n",
      "video_error_or_removed:, True 8474\n",
      "description:, False 0\n",
      "relatedTo:, True 6266\n"
     ]
    }
   ],
   "source": [
    "for col in df.columns:\n",
    "    temp = df[col].isna()\n",
    "    print(f\"{col}:, {temp.any()} {temp.sum()}\")"
   ]
  },
  {
   "cell_type": "markdown",
   "metadata": {},
   "source": [
    "## Dodanie nowych kolumn"
   ]
  },
  {
   "cell_type": "code",
   "execution_count": 11,
   "metadata": {
    "tags": []
   },
   "outputs": [],
   "source": [
    "from utils import addColumnsAndSaveCSV\n",
    "df = addColumnsAndSaveCSV(df, \"../../../our_data/Etap5/Etap1/checkpoint1.csv\")"
   ]
  }
 ],
 "metadata": {
  "kernelspec": {
   "display_name": "Python 3",
   "language": "python",
   "name": "python3"
  },
  "language_info": {
   "codemirror_mode": {
    "name": "ipython",
    "version": 3
   },
   "file_extension": ".py",
   "mimetype": "text/x-python",
   "name": "python",
   "nbconvert_exporter": "python",
   "pygments_lexer": "ipython3",
   "version": "3.8.5"
  }
 },
 "nbformat": 4,
 "nbformat_minor": 4
}
