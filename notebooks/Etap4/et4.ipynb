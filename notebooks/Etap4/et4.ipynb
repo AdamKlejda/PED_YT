{
 "cells": [
  {
   "cell_type": "code",
   "execution_count": 2,
   "metadata": {},
   "outputs": [],
   "source": [
    "import pandas as pd\n",
    "import numpy as np\n",
    "import matplotlib.pyplot as plt\n",
    "from collections import Counter\n",
    "\n",
    "from sklearn.metrics import accuracy_score"
   ]
  },
  {
   "cell_type": "code",
   "execution_count": 30,
   "metadata": {},
   "outputs": [],
   "source": [
    "base_stats = [\n",
    "#  'category_id_GT',\n",
    "#  'video_id',\n",
    " 'channel_title',\n",
    " 'views',\n",
    " 'likes',\n",
    " 'dislikes',\n",
    " 'comment_count',\n",
    " 'comments_disabled',\n",
    " 'ratings_disabled',\n",
    " 'video_error_or_removed',\n",
    " 'pub_day_of_the_week',\n",
    "#  'pub_month',\n",
    "#  'pub_day',\n",
    " 'pub_hour',\n",
    " 'tren_day_of_the_week',\n",
    "#  'tren_month',\n",
    "#  'tren_day',\n",
    " 'time_to_trend_in_days',\n",
    " 'dislikes/likes',\n",
    " 'likes/views',\n",
    " 'dislikes/views',\n",
    " 'comment_count/views',\n",
    " 'increase_views',\n",
    " 'increase_likes',\n",
    " 'increase_dislikes',\n",
    " 'increase_comms',\n",
    " 'times_in_trend',\n",
    " 'avg_views',\n",
    " 'avg_likes',\n",
    " 'avg_dislikes',\n",
    " 'avg_comms',\n",
    " 'avg_views_increase_per_hour',\n",
    " 'n_of_tags']\n",
    "title = [\n",
    " 'title_length',\n",
    " 'title_n_of_words',\n",
    " 'title_capital_letters',\n",
    " 'title_capital_letters_percent',\n",
    " 'title_small_letters',\n",
    " 'title_small_letters_percent',\n",
    " 'title_punctuation',\n",
    " 'title_punctuation_percent',\n",
    " 'title_n_of_emojis',\n",
    " 'TFIDF_title_clean_10',\n",
    " 'TFIDF_title_clean_22',\n",
    " 'TFIDF_title_clean_26',\n",
    " 'TFIDF_title_clean_24',\n",
    " 'TFIDF_title_clean_25',\n",
    " 'TFIDF_title_clean_20',\n",
    " 'TFIDF_title_clean_17',\n",
    " 'TFIDF_title_clean_27',\n",
    " 'TFIDF_title_clean_15',\n",
    " 'TFIDF_title_clean_23',\n",
    " 'TFIDF_title_clean_28',\n",
    " 'TFIDF_title_clean_1',\n",
    " 'TFIDF_title_clean_2',\n",
    " 'TFIDF_title_clean_29',\n",
    " 'TFIDF_title_clean_19',\n",
    " 'TFIDF_title_clean_43']\n",
    "\n",
    "thumbnail = [\n",
    " 'mean_r',\n",
    " 'mean_g',\n",
    " 'mean_b',\n",
    " 'std_r',\n",
    " 'std_g',\n",
    " 'std_b',\n",
    " 'entropy',\n",
    " 'avg_texts_coordX',\n",
    " 'avg_texts_coordY',\n",
    " 'ocr_sentiment_compound',\n",
    " 'Sad',\n",
    " 'Fear',\n",
    " 'Angry',\n",
    " 'Happy',\n",
    " 'Neutral',\n",
    " 'Surprise',\n",
    " 'people',\n",
    " 'faces',\n",
    " 'mean_h',\n",
    " 'mean_s',\n",
    " 'mean_v',\n",
    " 'std_h',\n",
    " 'std_s',\n",
    " 'std_v',\n",
    " 'TFIDF_clean_thumb_ocr_text_V2_10',\n",
    " 'TFIDF_clean_thumb_ocr_text_V2_22',\n",
    " 'TFIDF_clean_thumb_ocr_text_V2_26',\n",
    " 'TFIDF_clean_thumb_ocr_text_V2_24',\n",
    " 'TFIDF_clean_thumb_ocr_text_V2_25',\n",
    " 'TFIDF_clean_thumb_ocr_text_V2_20',\n",
    " 'TFIDF_clean_thumb_ocr_text_V2_17',\n",
    " 'TFIDF_clean_thumb_ocr_text_V2_27',\n",
    " 'TFIDF_clean_thumb_ocr_text_V2_15',\n",
    " 'TFIDF_clean_thumb_ocr_text_V2_23',\n",
    " 'TFIDF_clean_thumb_ocr_text_V2_28',\n",
    " 'TFIDF_clean_thumb_ocr_text_V2_1',\n",
    " 'TFIDF_clean_thumb_ocr_text_V2_2',\n",
    " 'TFIDF_clean_thumb_ocr_text_V2_29',\n",
    " 'TFIDF_clean_thumb_ocr_text_V2_19',\n",
    " 'TFIDF_clean_thumb_ocr_text_V2_43',\n",
    " 'TFIDF_categories_str_10',\n",
    " 'TFIDF_categories_str_22',\n",
    " 'TFIDF_categories_str_26',\n",
    " 'TFIDF_categories_str_24',\n",
    " 'TFIDF_categories_str_25',\n",
    " 'TFIDF_categories_str_20',\n",
    " 'TFIDF_categories_str_17',\n",
    " 'TFIDF_categories_str_27',\n",
    " 'TFIDF_categories_str_15',\n",
    " 'TFIDF_categories_str_23',\n",
    " 'TFIDF_categories_str_28',\n",
    " 'TFIDF_categories_str_1',\n",
    " 'TFIDF_categories_str_2',\n",
    " 'TFIDF_categories_str_29',\n",
    " 'TFIDF_categories_str_19',\n",
    " 'TFIDF_categories_str_43',\n",
    " 'TFIDF_objects_str_10',\n",
    " 'TFIDF_objects_str_22',\n",
    " 'TFIDF_objects_str_26',\n",
    " 'TFIDF_objects_str_24',\n",
    " 'TFIDF_objects_str_25',\n",
    " 'TFIDF_objects_str_20',\n",
    " 'TFIDF_objects_str_17',\n",
    " 'TFIDF_objects_str_27',\n",
    " 'TFIDF_objects_str_15',\n",
    " 'TFIDF_objects_str_23',\n",
    " 'TFIDF_objects_str_28',\n",
    " 'TFIDF_objects_str_1',\n",
    " 'TFIDF_objects_str_2',\n",
    " 'TFIDF_objects_str_29',\n",
    " 'TFIDF_objects_str_19',\n",
    " 'TFIDF_objects_str_43']\n",
    "description = [\n",
    " 'desc_length',\n",
    " 'desc_n_of_words',\n",
    " 'desc_capital_letters',\n",
    " 'desc_capital_letters_percent',\n",
    " 'desc_small_letters',\n",
    " 'desc_small_letters_percent',\n",
    " 'desc_punctuation',\n",
    " 'desc_punctuation_percent',\n",
    " 'desc_n_of_urls',\n",
    " 'desc_n_of_emojis',\n",
    " 'isFacebook',\n",
    " 'isTwitter',\n",
    " 'isInstagram']\n",
    "df = pd.read_csv(\"../../our_data/Etap4/GB_US-rdy-to-learn-properly.csv\")"
   ]
  },
  {
   "cell_type": "markdown",
   "metadata": {},
   "source": [
    "## Title\n",
    "\n",
    "## Statystyki bazowe\n",
    "\n",
    "## Obrazki"
   ]
  },
  {
   "cell_type": "code",
   "execution_count": null,
   "metadata": {},
   "outputs": [],
   "source": []
  },
  {
   "cell_type": "code",
   "execution_count": 24,
   "metadata": {
    "scrolled": false
   },
   "outputs": [
    {
     "data": {
      "text/plain": [
       "['category_id_GT',\n",
       " 'video_id',\n",
       " 'channel_title',\n",
       " 'views',\n",
       " 'likes',\n",
       " 'dislikes',\n",
       " 'comment_count',\n",
       " 'comments_disabled',\n",
       " 'ratings_disabled',\n",
       " 'video_error_or_removed',\n",
       " 'pub_day_of_the_week',\n",
       " 'pub_month',\n",
       " 'pub_day',\n",
       " 'pub_hour',\n",
       " 'tren_day_of_the_week',\n",
       " 'tren_month',\n",
       " 'tren_day',\n",
       " 'time_to_trend_in_days',\n",
       " 'dislikes/likes',\n",
       " 'likes/views',\n",
       " 'dislikes/views',\n",
       " 'comment_count/views',\n",
       " 'increase_views',\n",
       " 'increase_likes',\n",
       " 'increase_dislikes',\n",
       " 'increase_comms',\n",
       " 'times_in_trend',\n",
       " 'avg_views',\n",
       " 'avg_likes',\n",
       " 'avg_dislikes',\n",
       " 'avg_comms',\n",
       " 'avg_views_increase_per_hour',\n",
       " 'n_of_tags',\n",
       " 'title_length',\n",
       " 'title_n_of_words',\n",
       " 'title_capital_letters',\n",
       " 'title_capital_letters_percent',\n",
       " 'title_small_letters',\n",
       " 'title_small_letters_percent',\n",
       " 'title_punctuation',\n",
       " 'title_punctuation_percent',\n",
       " 'title_n_of_emojis',\n",
       " 'desc_length',\n",
       " 'desc_n_of_words',\n",
       " 'desc_capital_letters',\n",
       " 'desc_capital_letters_percent',\n",
       " 'desc_small_letters',\n",
       " 'desc_small_letters_percent',\n",
       " 'desc_punctuation',\n",
       " 'desc_punctuation_percent',\n",
       " 'desc_n_of_urls',\n",
       " 'desc_n_of_emojis',\n",
       " 'isFacebook',\n",
       " 'isTwitter',\n",
       " 'isInstagram',\n",
       " 'mean_r',\n",
       " 'mean_g',\n",
       " 'mean_b',\n",
       " 'std_r',\n",
       " 'std_g',\n",
       " 'std_b',\n",
       " 'entropy',\n",
       " 'avg_texts_coordX',\n",
       " 'avg_texts_coordY',\n",
       " 'ocr_sentiment_compound',\n",
       " 'Sad',\n",
       " 'Fear',\n",
       " 'Angry',\n",
       " 'Happy',\n",
       " 'Neutral',\n",
       " 'Surprise',\n",
       " 'people',\n",
       " 'faces',\n",
       " 'mean_h',\n",
       " 'mean_s',\n",
       " 'mean_v',\n",
       " 'std_h',\n",
       " 'std_s',\n",
       " 'std_v',\n",
       " 'category_id',\n",
       " 'TFIDF_title_clean_-1',\n",
       " 'TFIDF_title_clean_10',\n",
       " 'TFIDF_title_clean_22',\n",
       " 'TFIDF_title_clean_26',\n",
       " 'TFIDF_title_clean_24',\n",
       " 'TFIDF_title_clean_25',\n",
       " 'TFIDF_title_clean_20',\n",
       " 'TFIDF_title_clean_17',\n",
       " 'TFIDF_title_clean_27',\n",
       " 'TFIDF_title_clean_15',\n",
       " 'TFIDF_title_clean_23',\n",
       " 'TFIDF_title_clean_28',\n",
       " 'TFIDF_title_clean_1',\n",
       " 'TFIDF_title_clean_2',\n",
       " 'TFIDF_title_clean_29',\n",
       " 'TFIDF_clean_thumb_ocr_text_V2_-1',\n",
       " 'TFIDF_clean_thumb_ocr_text_V2_10',\n",
       " 'TFIDF_clean_thumb_ocr_text_V2_22',\n",
       " 'TFIDF_clean_thumb_ocr_text_V2_26',\n",
       " 'TFIDF_clean_thumb_ocr_text_V2_24',\n",
       " 'TFIDF_clean_thumb_ocr_text_V2_25',\n",
       " 'TFIDF_clean_thumb_ocr_text_V2_20',\n",
       " 'TFIDF_clean_thumb_ocr_text_V2_17',\n",
       " 'TFIDF_clean_thumb_ocr_text_V2_27',\n",
       " 'TFIDF_clean_thumb_ocr_text_V2_15',\n",
       " 'TFIDF_clean_thumb_ocr_text_V2_23',\n",
       " 'TFIDF_clean_thumb_ocr_text_V2_28',\n",
       " 'TFIDF_clean_thumb_ocr_text_V2_1',\n",
       " 'TFIDF_clean_thumb_ocr_text_V2_2',\n",
       " 'TFIDF_clean_thumb_ocr_text_V2_29',\n",
       " 'TFIDF_categories_str_-1',\n",
       " 'TFIDF_categories_str_10',\n",
       " 'TFIDF_categories_str_22',\n",
       " 'TFIDF_categories_str_26',\n",
       " 'TFIDF_categories_str_24',\n",
       " 'TFIDF_categories_str_25',\n",
       " 'TFIDF_categories_str_20',\n",
       " 'TFIDF_categories_str_17',\n",
       " 'TFIDF_categories_str_27',\n",
       " 'TFIDF_categories_str_15',\n",
       " 'TFIDF_categories_str_23',\n",
       " 'TFIDF_categories_str_28',\n",
       " 'TFIDF_categories_str_1',\n",
       " 'TFIDF_categories_str_2',\n",
       " 'TFIDF_categories_str_29',\n",
       " 'TFIDF_objects_str_-1',\n",
       " 'TFIDF_objects_str_10',\n",
       " 'TFIDF_objects_str_22',\n",
       " 'TFIDF_objects_str_26',\n",
       " 'TFIDF_objects_str_24',\n",
       " 'TFIDF_objects_str_25',\n",
       " 'TFIDF_objects_str_20',\n",
       " 'TFIDF_objects_str_17',\n",
       " 'TFIDF_objects_str_27',\n",
       " 'TFIDF_objects_str_15',\n",
       " 'TFIDF_objects_str_23',\n",
       " 'TFIDF_objects_str_28',\n",
       " 'TFIDF_objects_str_1',\n",
       " 'TFIDF_objects_str_2',\n",
       " 'TFIDF_objects_str_29']"
      ]
     },
     "execution_count": 24,
     "metadata": {},
     "output_type": "execute_result"
    }
   ],
   "source": [
    "list(df.columns)"
   ]
  },
  {
   "cell_type": "code",
   "execution_count": 5,
   "metadata": {},
   "outputs": [],
   "source": [
    "import numpy as np\n",
    "from sklearn import datasets\n",
    "from sklearn.semi_supervised import SelfTrainingClassifier\n",
    "from sklearn.svm import SVC\n",
    "\n",
    "\n",
    "svc = SVC(probability=True, gamma=\"auto\")\n",
    "self_training_model = SelfTrainingClassifier(svc)\n",
    "x = self_training_model.fit(df.loc[:, chosen_columns].values, df.loc[:, 'category_id'].values)"
   ]
  },
  {
   "cell_type": "markdown",
   "metadata": {},
   "source": [
    "# Label propagation"
   ]
  },
  {
   "cell_type": "code",
   "execution_count": 6,
   "metadata": {},
   "outputs": [
    {
     "data": {
      "text/plain": [
       "SelfTrainingClassifier(base_estimator=SVC(gamma='auto', probability=True))"
      ]
     },
     "execution_count": 6,
     "metadata": {},
     "output_type": "execute_result"
    }
   ],
   "source": [
    "x"
   ]
  },
  {
   "cell_type": "markdown",
   "metadata": {},
   "source": [
    "# Label spreading"
   ]
  },
  {
   "cell_type": "code",
   "execution_count": null,
   "metadata": {},
   "outputs": [],
   "source": []
  },
  {
   "cell_type": "markdown",
   "metadata": {},
   "source": [
    "# Multi view"
   ]
  },
  {
   "cell_type": "code",
   "execution_count": 15,
   "metadata": {},
   "outputs": [],
   "source": [
    "import numpy as np\n",
    "from sklearn.naive_bayes import GaussianNB\n",
    "from sklearn.model_selection import train_test_split\n",
    "from sklearn.metrics import accuracy_score\n",
    "from sklearn.ensemble import RandomForestClassifier\n",
    "\n",
    "from mvlearn.semi_supervised import CTClassifier\n",
    "from mvlearn.datasets import load_UCImultifeature"
   ]
  },
  {
   "cell_type": "code",
   "execution_count": 16,
   "metadata": {},
   "outputs": [
    {
     "name": "stdout",
     "output_type": "stream",
     "text": [
      "Remaining labeled sample labels: [1. 0. 1. 0.]\n"
     ]
    }
   ],
   "source": [
    "data, labels = load_UCImultifeature(select_labeled=[0, 1])\n",
    "\n",
    "# Use only the first 2 views as an example\n",
    "View0, View1 = data[0], data[1]\n",
    "\n",
    "# Split both views into testing and training\n",
    "View0_train, View0_test, labels_train, labels_test = train_test_split(\n",
    "    View0, labels, test_size=0.33, random_state=42)\n",
    "View1_train, View1_test, labels_train, labels_test = train_test_split(\n",
    "    View1, labels, test_size=0.33, random_state=42)\n",
    "\n",
    "# Randomly remove all but 4 of the labels\n",
    "np.random.seed(6)\n",
    "remove_idx = np.random.rand(len(labels_train),) < 0.98\n",
    "labels_train[remove_idx] = np.nan\n",
    "not_removed = np.where(~remove_idx)\n",
    "print(\"Remaining labeled sample labels: \" + str(labels_train[not_removed]))"
   ]
  },
  {
   "cell_type": "code",
   "execution_count": 17,
   "metadata": {},
   "outputs": [
    {
     "name": "stdout",
     "output_type": "stream",
     "text": [
      "Single View Accuracy on First View: 0.568\n",
      "\n",
      "Single View Accuracy on Second View: 0.591\n",
      "\n",
      "Naive Concatenated View Accuracy: 0.591\n",
      "\n",
      "Co-Training Accuracy on 2 Views:     0.992\n"
     ]
    }
   ],
   "source": [
    "# Single view semi-supervised learning\n",
    "gnb0 = GaussianNB()\n",
    "gnb1 = GaussianNB()\n",
    "gnb2 = GaussianNB()\n",
    "\n",
    "# Train on only the examples with labels\n",
    "gnb0.fit(View0_train[not_removed, :].squeeze(), labels_train[not_removed])\n",
    "y_pred0 = gnb0.predict(View0_test)\n",
    "gnb1.fit(View1_train[not_removed, :].squeeze(), labels_train[not_removed])\n",
    "y_pred1 = gnb1.predict(View1_test)\n",
    "# Concatenate the 2 views for naive \"multiview\" learning\n",
    "View01_train = np.hstack(\n",
    "    (View0_train[not_removed, :].squeeze(),\n",
    "     View1_train[not_removed, :].squeeze()))\n",
    "View01_test = np.hstack((View0_test, View1_test))\n",
    "gnb2.fit(View01_train, labels_train[not_removed])\n",
    "y_pred2 = gnb2.predict(View01_test)\n",
    "\n",
    "print(\"Single View Accuracy on First View: {0:.3f}\\n\".format(\n",
    "    accuracy_score(labels_test, y_pred0)))\n",
    "print(\"Single View Accuracy on Second View: {0:.3f}\\n\".format(\n",
    "    accuracy_score(labels_test, y_pred1)))\n",
    "print(\"Naive Concatenated View Accuracy: {0:.3f}\\n\".format(\n",
    "    accuracy_score(labels_test, y_pred2)))\n",
    "\n",
    "# Multi-view co-training semi-supervised learning\n",
    "# Train a CTClassifier on all the labeled and unlabeled training data\n",
    "ctc = CTClassifier()\n",
    "ctc.fit([View0_train, View1_train], labels_train)\n",
    "y_pred_ct = ctc.predict([View0_test, View1_test])\n",
    "\n",
    "print(f\"Co-Training Accuracy on 2 Views: \\\n",
    "    {accuracy_score(labels_test, y_pred_ct):.3f}\")"
   ]
  },
  {
   "cell_type": "code",
   "execution_count": 18,
   "metadata": {},
   "outputs": [
    {
     "name": "stdout",
     "output_type": "stream",
     "text": [
      "Single View Accuracy on First View: 0.902\n",
      "\n",
      "Single View Accuracy on Second View: 0.871\n",
      "\n",
      "Naive Concatenated View Accuracy: 0.977\n",
      "\n",
      "Co-Training Accuracy:     0.992\n",
      "Full y_proba shape = (132, 2)\n",
      "\n",
      "First 10 class probabilities:\n",
      "\n",
      "[[1.         0.        ]\n",
      " [0.945      0.055     ]\n",
      " [0.005      0.995     ]\n",
      " [0.09       0.91      ]\n",
      " [0.16833333 0.83166667]\n",
      " [0.995      0.005     ]\n",
      " [0.955      0.045     ]\n",
      " [0.955      0.045     ]\n",
      " [0.28       0.72      ]\n",
      " [0.925      0.075     ]]\n"
     ]
    }
   ],
   "source": [
    "# Single view semi-supervised learning\n",
    "rfc0 = RandomForestClassifier(n_estimators=100, bootstrap=True)\n",
    "rfc1 = RandomForestClassifier(n_estimators=6, bootstrap=False)\n",
    "rfc2 = RandomForestClassifier(n_estimators=100, bootstrap=False)\n",
    "\n",
    "# Train on only the examples with labels\n",
    "rfc0.fit(View0_train[not_removed, :].squeeze(), labels_train[not_removed])\n",
    "y_pred0 = rfc0.predict(View0_test)\n",
    "rfc1.fit(View1_train[not_removed, :].squeeze(), labels_train[not_removed])\n",
    "y_pred1 = rfc1.predict(View1_test)\n",
    "# Concatenate the 2 views for naive \"multiview\" learning\n",
    "View01_train = np.hstack(\n",
    "    (View0_train[not_removed, :].squeeze(),\n",
    "     View1_train[not_removed, :].squeeze()))\n",
    "View01_test = np.hstack((View0_test, View1_test))\n",
    "rfc2.fit(View01_train, labels_train[not_removed])\n",
    "y_pred2 = rfc2.predict(View01_test)\n",
    "\n",
    "print(\"Single View Accuracy on First View: {0:.3f}\\n\".format(\n",
    "    accuracy_score(labels_test, y_pred0)))\n",
    "print(\"Single View Accuracy on Second View: {0:.3f}\\n\".format(\n",
    "    accuracy_score(labels_test, y_pred1)))\n",
    "print(\"Naive Concatenated View Accuracy: {0:.3f}\\n\".format(\n",
    "    accuracy_score(labels_test, y_pred2)))\n",
    "\n",
    "# Multi-view co-training semi-supervised learning\n",
    "rfc0 = RandomForestClassifier(n_estimators=100, bootstrap=True)\n",
    "rfc1 = RandomForestClassifier(n_estimators=6, bootstrap=False)\n",
    "ctc = CTClassifier(rfc0, rfc1, p=2, n=2, unlabeled_pool_size=20, num_iter=100)\n",
    "ctc.fit([View0_train, View1_train], labels_train)\n",
    "y_pred_ct = ctc.predict([View0_test, View1_test])\n",
    "\n",
    "print(f\"Co-Training Accuracy: \\\n",
    "    {accuracy_score(labels_test, y_pred_ct):.3f}\")\n",
    "\n",
    "# Get the prediction probabilities for all the examples\n",
    "y_pred_proba = ctc.predict_proba([View0_test, View1_test])\n",
    "print(\"Full y_proba shape = \" + str(y_pred_proba.shape))\n",
    "print(\"\\nFirst 10 class probabilities:\\n\")\n",
    "print(y_pred_proba[:10, :])\n"
   ]
  },
  {
   "cell_type": "code",
   "execution_count": 21,
   "metadata": {},
   "outputs": [
    {
     "data": {
      "text/plain": [
       "76"
      ]
     },
     "execution_count": 21,
     "metadata": {},
     "output_type": "execute_result"
    }
   ],
   "source": [
    "len(View0[0])"
   ]
  },
  {
   "cell_type": "code",
   "execution_count": 22,
   "metadata": {},
   "outputs": [
    {
     "data": {
      "text/plain": [
       "216"
      ]
     },
     "execution_count": 22,
     "metadata": {},
     "output_type": "execute_result"
    }
   ],
   "source": [
    "len(View1[0])"
   ]
  },
  {
   "cell_type": "code",
   "execution_count": 26,
   "metadata": {},
   "outputs": [
    {
     "data": {
      "text/plain": [
       "6"
      ]
     },
     "execution_count": 26,
     "metadata": {},
     "output_type": "execute_result"
    }
   ],
   "source": [
    "len(data)"
   ]
  }
 ],
 "metadata": {
  "kernelspec": {
   "display_name": "Python 3",
   "language": "python",
   "name": "python3"
  },
  "language_info": {
   "codemirror_mode": {
    "name": "ipython",
    "version": 3
   },
   "file_extension": ".py",
   "mimetype": "text/x-python",
   "name": "python",
   "nbconvert_exporter": "python",
   "pygments_lexer": "ipython3",
   "version": "3.8.3"
  }
 },
 "nbformat": 4,
 "nbformat_minor": 4
}
