{
 "cells": [
  {
   "cell_type": "code",
   "execution_count": 2,
   "id": "saved-detective",
   "metadata": {},
   "outputs": [],
   "source": [
    "import pandas as pd\n",
    "pd.options.display.max_columns = None"
   ]
  },
  {
   "cell_type": "code",
   "execution_count": 56,
   "id": "random-patent",
   "metadata": {},
   "outputs": [
    {
     "data": {
      "text/plain": [
       "(3235, 103)"
      ]
     },
     "execution_count": 56,
     "metadata": {},
     "output_type": "execute_result"
    }
   ],
   "source": [
    "dfGB = pd.read_csv('../../our_data/Etap3/GB_merged.csv')\n",
    "dfGB.shape"
   ]
  },
  {
   "cell_type": "code",
   "execution_count": null,
   "id": "invalid-nevada",
   "metadata": {},
   "outputs": [],
   "source": []
  }
 ],
 "metadata": {
  "kernelspec": {
   "display_name": "Python 3",
   "language": "python",
   "name": "python3"
  },
  "language_info": {
   "codemirror_mode": {
    "name": "ipython",
    "version": 3
   },
   "file_extension": ".py",
   "mimetype": "text/x-python",
   "name": "python",
   "nbconvert_exporter": "python",
   "pygments_lexer": "ipython3",
   "version": "3.8.5"
  }
 },
 "nbformat": 4,
 "nbformat_minor": 5
}
