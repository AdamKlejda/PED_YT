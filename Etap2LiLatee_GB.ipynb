{
 "cells": [
  {
   "cell_type": "code",
   "execution_count": 1,
   "id": "stupid-universe",
   "metadata": {},
   "outputs": [
    {
     "name": "stderr",
     "output_type": "stream",
     "text": [
      "[nltk_data] Downloading package words to /home/lilatee/nltk_data...\n",
      "[nltk_data]   Package words is already up-to-date!\n",
      "[nltk_data] Downloading package wordnet to /home/lilatee/nltk_data...\n",
      "[nltk_data]   Package wordnet is already up-to-date!\n",
      "[nltk_data] Downloading package stopwords to\n",
      "[nltk_data]     /home/lilatee/nltk_data...\n",
      "[nltk_data]   Package stopwords is already up-to-date!\n"
     ]
    }
   ],
   "source": [
    "import pandas as pd\n",
    "import matplotlib.pyplot as plt\n",
    "from skimage import io\n",
    "from pathlib import Path\n",
    "from urlpath import URL\n",
    "import json\n",
    "import glob \n",
    "import numpy as np\n",
    "import seaborn as sns\n",
    "from skimage.measure import shannon_entropy\n",
    "import string\n",
    "import nltk\n",
    "nltk.download('words')\n",
    "nltk.download('wordnet')\n",
    "nltk.download('stopwords')\n",
    "from nltk.corpus import words\n",
    "from nltk.stem import WordNetLemmatizer\n",
    "from nltk.corpus import stopwords\n",
    "\n",
    "# https://pypi.org/project/pytesseract/\n",
    "# sudo apt install tesseract-ocr\n",
    "import pytesseract\n",
    "# pytesseract.pytesseract.tesseract_cmd = r'C:\\Program Files\\Tesseract-OCR\\tesseract.exe'\n",
    "\n",
    "pd.options.display.max_columns = None"
   ]
  },
  {
   "cell_type": "code",
   "execution_count": 2,
   "id": "hungarian-recovery",
   "metadata": {},
   "outputs": [
    {
     "name": "stdout",
     "output_type": "stream",
     "text": [
      "(3235, 3)\n"
     ]
    },
    {
     "data": {
      "text/html": [
       "<div>\n",
       "<style scoped>\n",
       "    .dataframe tbody tr th:only-of-type {\n",
       "        vertical-align: middle;\n",
       "    }\n",
       "\n",
       "    .dataframe tbody tr th {\n",
       "        vertical-align: top;\n",
       "    }\n",
       "\n",
       "    .dataframe thead th {\n",
       "        text-align: right;\n",
       "    }\n",
       "</style>\n",
       "<table border=\"1\" class=\"dataframe\">\n",
       "  <thead>\n",
       "    <tr style=\"text-align: right;\">\n",
       "      <th></th>\n",
       "      <th>video_id</th>\n",
       "      <th>thumbnail_link</th>\n",
       "      <th>region</th>\n",
       "    </tr>\n",
       "  </thead>\n",
       "  <tbody>\n",
       "    <tr>\n",
       "      <th>0</th>\n",
       "      <td>Jw1Y-zhQURU</td>\n",
       "      <td>https://i.ytimg.com/vi/Jw1Y-zhQURU/default.jpg</td>\n",
       "      <td>GB</td>\n",
       "    </tr>\n",
       "    <tr>\n",
       "      <th>1</th>\n",
       "      <td>3s1rvMFUweQ</td>\n",
       "      <td>https://i.ytimg.com/vi/3s1rvMFUweQ/default.jpg</td>\n",
       "      <td>GB</td>\n",
       "    </tr>\n",
       "    <tr>\n",
       "      <th>2</th>\n",
       "      <td>n1WpP7iowLc</td>\n",
       "      <td>https://i.ytimg.com/vi/n1WpP7iowLc/default.jpg</td>\n",
       "      <td>GB</td>\n",
       "    </tr>\n",
       "  </tbody>\n",
       "</table>\n",
       "</div>"
      ],
      "text/plain": [
       "      video_id                                  thumbnail_link region\n",
       "0  Jw1Y-zhQURU  https://i.ytimg.com/vi/Jw1Y-zhQURU/default.jpg     GB\n",
       "1  3s1rvMFUweQ  https://i.ytimg.com/vi/3s1rvMFUweQ/default.jpg     GB\n",
       "2  n1WpP7iowLc  https://i.ytimg.com/vi/n1WpP7iowLc/default.jpg     GB"
      ]
     },
     "execution_count": 2,
     "metadata": {},
     "output_type": "execute_result"
    }
   ],
   "source": [
    "df = pd.read_csv(\"./GB_new_columns.csv\")\n",
    "df = df.loc[:, [\"video_id\", \"thumbnail_link\", 'region']]\n",
    "region = df['region'][0]\n",
    "print(df.shape)\n",
    "df[:3]"
   ]
  },
  {
   "cell_type": "markdown",
   "id": "agricultural-wholesale",
   "metadata": {},
   "source": [
    "### Pobieranie thumbnaili"
   ]
  },
  {
   "cell_type": "code",
   "execution_count": null,
   "id": "precious-glasgow",
   "metadata": {
    "jupyter": {
     "source_hidden": true
    },
    "tags": []
   },
   "outputs": [],
   "source": [
    "def readJSONList(path):\n",
    "    with open(path, 'r') as file:\n",
    "        loaded_list = json.loads(file.read())\n",
    "    return loaded_list\n",
    "\n",
    "def writeJSONList(path, list_to_save):\n",
    "    with open(path, 'w') as file:\n",
    "        file.write(json.dumps(list_to_save))\n",
    "\n",
    "def downloadThumbnails(df, quality='hq'):\n",
    "    list_of_ids_without_thumbnail = []\n",
    "    ids = df[\"video_id\"].values\n",
    "    urls = df[\"thumbnail_link\"].values\n",
    "    \n",
    "    region = df['region'][0]\n",
    "    Path(\"./data/thumbnailsHQ/\" + region).mkdir(parents=True, exist_ok=True)\n",
    "    savepath = Path(\"./data/thumbnailsHQ/\" + region)\n",
    "    filename = quality + 'default.jpg'\n",
    "    \n",
    "    for id, url in zip(ids, urls): \n",
    "        temp_url = URL(url)\n",
    "        temp_url = temp_url.parent / filename\n",
    "        \n",
    "        try:\n",
    "            img = io.imread(str(temp_url))\n",
    "        except Exception:\n",
    "            list_of_ids_without_thumbnail.append(id)\n",
    "            print(f\"{id} no thumbnail\")\n",
    "            continue\n",
    "        io.imsave(savepath / (id + \".png\") , img)\n",
    "    \n",
    "    writeJSONList(savepath / \"ids_without_thumbnail.txt\", list_of_ids_without_thumbnail)\n",
    "        \n",
    "    return list_of_ids_without_thumbnail"
   ]
  },
  {
   "cell_type": "code",
   "execution_count": null,
   "id": "headed-arcade",
   "metadata": {
    "jupyter": {
     "source_hidden": true
    },
    "tags": []
   },
   "outputs": [],
   "source": [
    "# list_of_ids_without_thumbnail = downloadThumbnails(df)\n",
    "df.loc[df.video_id==\"0Yp9WS6cJFA\",:]"
   ]
  },
  {
   "cell_type": "markdown",
   "id": "overhead-serve",
   "metadata": {},
   "source": [
    "### Średnia wartość kanałów w obrazie, entropia, ocr"
   ]
  },
  {
   "cell_type": "code",
   "execution_count": 3,
   "id": "latter-replication",
   "metadata": {
    "collapsed": true,
    "jupyter": {
     "outputs_hidden": true
    },
    "tags": []
   },
   "outputs": [
    {
     "name": "stderr",
     "output_type": "stream",
     "text": [
      "[nltk_data] Downloading package wordnet to /home/lilatee/nltk_data...\n",
      "[nltk_data]   Package wordnet is already up-to-date!\n",
      "[nltk_data] Downloading package stopwords to\n",
      "[nltk_data]     /home/lilatee/nltk_data...\n",
      "[nltk_data]   Package stopwords is already up-to-date!\n",
      "[nltk_data] Downloading package words to /home/lilatee/nltk_data...\n",
      "[nltk_data]   Package words is already up-to-date!\n",
      "[nltk_data] Downloading package punkt to /home/lilatee/nltk_data...\n",
      "[nltk_data]   Package punkt is already up-to-date!\n",
      "[nltk_data] Downloading package averaged_perceptron_tagger to\n",
      "[nltk_data]     /home/lilatee/nltk_data...\n",
      "[nltk_data]   Package averaged_perceptron_tagger is already up-to-\n",
      "[nltk_data]       date!\n"
     ]
    },
    {
     "name": "stdout",
     "output_type": "stream",
     "text": [
      "0\n",
      "100\n",
      "200\n",
      "300\n",
      "400\n",
      "500\n",
      "600\n",
      "700\n",
      "800\n",
      "900\n",
      "1000\n",
      "1100\n",
      "1200\n",
      "1300\n",
      "1400\n",
      "1500\n",
      "1600\n",
      "1700\n",
      "1800\n",
      "1900\n",
      "2000\n",
      "2100\n",
      "2200\n",
      "2300\n",
      "2400\n",
      "2500\n",
      "2600\n",
      "2700\n",
      "2800\n",
      "cleanOcrText: 0\n",
      "cleanOcrText: 100\n",
      "cleanOcrText: 200\n",
      "cleanOcrText: 300\n",
      "cleanOcrText: 400\n",
      "cleanOcrText: 500\n",
      "cleanOcrText: 600\n",
      "cleanOcrText: 700\n",
      "cleanOcrText: 800\n",
      "cleanOcrText: 900\n",
      "cleanOcrText: 1000\n",
      "cleanOcrText: 1100\n",
      "cleanOcrText: 1200\n",
      "cleanOcrText: 1300\n",
      "cleanOcrText: 1400\n",
      "cleanOcrText: 1500\n",
      "cleanOcrText: 1600\n",
      "cleanOcrText: 1700\n",
      "cleanOcrText: 1800\n",
      "cleanOcrText: 1900\n",
      "cleanOcrText: 2000\n",
      "cleanOcrText: 2100\n",
      "cleanOcrText: 2200\n",
      "cleanOcrText: 2300\n",
      "cleanOcrText: 2400\n",
      "cleanOcrText: 2500\n",
      "cleanOcrText: 2600\n",
      "cleanOcrText: 2700\n",
      "cleanOcrText: 2800\n",
      "cleanOcrText: 2900\n",
      "cleanOcrText: 3000\n",
      "cleanOcrText: 3100\n",
      "cleanOcrText: 3200\n",
      "CPU times: user 4min 14s, sys: 24.1 s, total: 4min 39s\n",
      "Wall time: 11min\n"
     ]
    },
    {
     "data": {
      "text/html": [
       "<div>\n",
       "<style scoped>\n",
       "    .dataframe tbody tr th:only-of-type {\n",
       "        vertical-align: middle;\n",
       "    }\n",
       "\n",
       "    .dataframe tbody tr th {\n",
       "        vertical-align: top;\n",
       "    }\n",
       "\n",
       "    .dataframe thead th {\n",
       "        text-align: right;\n",
       "    }\n",
       "</style>\n",
       "<table border=\"1\" class=\"dataframe\">\n",
       "  <thead>\n",
       "    <tr style=\"text-align: right;\">\n",
       "      <th></th>\n",
       "      <th>video_id</th>\n",
       "      <th>thumbnail_link</th>\n",
       "      <th>region</th>\n",
       "      <th>r</th>\n",
       "      <th>g</th>\n",
       "      <th>b</th>\n",
       "      <th>entropy</th>\n",
       "      <th>thumb_ocr_text</th>\n",
       "      <th>clean_thumb_ocr_text</th>\n",
       "    </tr>\n",
       "  </thead>\n",
       "  <tbody>\n",
       "    <tr>\n",
       "      <th>0</th>\n",
       "      <td>Jw1Y-zhQURU</td>\n",
       "      <td>https://i.ytimg.com/vi/Jw1Y-zhQURU/default.jpg</td>\n",
       "      <td>GB</td>\n",
       "      <td>NaN</td>\n",
       "      <td>NaN</td>\n",
       "      <td>NaN</td>\n",
       "      <td>NaN</td>\n",
       "      <td>NaN</td>\n",
       "      <td></td>\n",
       "    </tr>\n",
       "    <tr>\n",
       "      <th>1</th>\n",
       "      <td>3s1rvMFUweQ</td>\n",
       "      <td>https://i.ytimg.com/vi/3s1rvMFUweQ/default.jpg</td>\n",
       "      <td>GB</td>\n",
       "      <td>NaN</td>\n",
       "      <td>NaN</td>\n",
       "      <td>NaN</td>\n",
       "      <td>NaN</td>\n",
       "      <td>NaN</td>\n",
       "      <td></td>\n",
       "    </tr>\n",
       "    <tr>\n",
       "      <th>2</th>\n",
       "      <td>n1WpP7iowLc</td>\n",
       "      <td>https://i.ytimg.com/vi/n1WpP7iowLc/default.jpg</td>\n",
       "      <td>GB</td>\n",
       "      <td>66.50283</td>\n",
       "      <td>71.743704</td>\n",
       "      <td>79.699635</td>\n",
       "      <td>6.470819</td>\n",
       "      <td>\\n</td>\n",
       "      <td></td>\n",
       "    </tr>\n",
       "  </tbody>\n",
       "</table>\n",
       "</div>"
      ],
      "text/plain": [
       "      video_id                                  thumbnail_link region  \\\n",
       "0  Jw1Y-zhQURU  https://i.ytimg.com/vi/Jw1Y-zhQURU/default.jpg     GB   \n",
       "1  3s1rvMFUweQ  https://i.ytimg.com/vi/3s1rvMFUweQ/default.jpg     GB   \n",
       "2  n1WpP7iowLc  https://i.ytimg.com/vi/n1WpP7iowLc/default.jpg     GB   \n",
       "\n",
       "          r          g          b   entropy thumb_ocr_text  \\\n",
       "0       NaN        NaN        NaN       NaN            NaN   \n",
       "1       NaN        NaN        NaN       NaN            NaN   \n",
       "2  66.50283  71.743704  79.699635  6.470819            \\n\n",
       "   \n",
       "\n",
       "  clean_thumb_ocr_text  \n",
       "0                       \n",
       "1                       \n",
       "2                       "
      ]
     },
     "execution_count": 3,
     "metadata": {},
     "output_type": "execute_result"
    }
   ],
   "source": [
    "%%time\n",
    "# Odkomentować zapis jeśli trzeba!!!\n",
    "from prepareCSV import cleanOcrText\n",
    "imgs_path = Path(f'./data/thumbnailsHQ/{region}')\n",
    "\n",
    "for i, img_path in enumerate(glob.glob(f\"{imgs_path}/*.png\")): \n",
    "    path = Path(img_path)\n",
    "    img = io.imread(path)\n",
    "    n_of_pixels = img.shape[0]*img.shape[1]\n",
    "    \n",
    "    intensity = np.sum(img, axis=0)\n",
    "    mean_intensity_each_channel = np.sum(intensity, axis=0)/n_of_pixels\n",
    "    df.loc[df.video_id == path.stem, \"r\"] = mean_intensity_each_channel[0]\n",
    "    df.loc[df.video_id == path.stem, \"g\"] = mean_intensity_each_channel[1]\n",
    "    df.loc[df.video_id == path.stem, \"b\"] = mean_intensity_each_channel[2]\n",
    "    df.loc[df.video_id == path.stem, \"entropy\"] = shannon_entropy(img)\n",
    "    df.loc[df.video_id == path.stem, \"thumb_ocr_text\"] = pytesseract.image_to_string(img)\n",
    "    \n",
    "    if (i % 100 == 0):\n",
    "        print(i)\n",
    "\n",
    "df[\"clean_thumb_ocr_text\"] = df.apply(lambda row: cleanOcrText(row.thumb_ocr_text), axis=1)\n",
    "df.to_csv(f\"./our_data/etap2_{region}.csv\", index=False)\n",
    "df[:3]"
   ]
  },
  {
   "cell_type": "code",
   "execution_count": null,
   "id": "commercial-publisher",
   "metadata": {},
   "outputs": [],
   "source": [
    "df = pd.read_csv(f\"./our_data/etap2_{region}.csv\")"
   ]
  },
  {
   "cell_type": "code",
   "execution_count": null,
   "id": "exceptional-affiliate",
   "metadata": {},
   "outputs": [],
   "source": [
    "ocr_videos = df.loc[df.clean_thumb_ocr_text != '',:][[\"video_id\",\"thumb_ocr_text\",\"clean_thumb_ocr_text\"]]\n",
    "ocr_videos.shape"
   ]
  },
  {
   "cell_type": "markdown",
   "id": "sought-permit",
   "metadata": {},
   "source": [
    "### Wizualizacja OCRa"
   ]
  },
  {
   "cell_type": "code",
   "execution_count": null,
   "id": "united-glenn",
   "metadata": {
    "tags": []
   },
   "outputs": [],
   "source": [
    "ocr_videos = df.loc[df.clean_thumb_ocr_text != '',:][[\"video_id\",\"thumb_ocr_text\",\"clean_thumb_ocr_text\"]][:10]\n",
    "\n",
    "n_of_cols = 3\n",
    "n_of_rows = int(ocr_videos.shape[0]/n_of_cols)\n",
    "fig, axes = plt.subplots(n_of_rows, n_of_cols, figsize=(n_of_cols*5, n_of_rows*5))\n",
    "\n",
    "for i, row in enumerate(axes):\n",
    "    for j, ax in enumerate(row):\n",
    "        video = ocr_videos[i*n_of_cols+j:i*n_of_cols+j+1]\n",
    "        video_id = video.video_id.values[0]\n",
    "        path = Path(f'./data/thumbnailsHQ/{region}/{video_id}.png')\n",
    "        \n",
    "        ax.set_title(video.clean_thumb_ocr_text.values[0])\n",
    "        img = io.imread(str(path))\n",
    "        ax.imshow(img)"
   ]
  },
  {
   "cell_type": "code",
   "execution_count": null,
   "id": "present-poker",
   "metadata": {
    "tags": []
   },
   "outputs": [],
   "source": [
    "ll = df.loc[df.clean_thumb_ocr_text != '',:][[\"thumb_ocr_text\",\"clean_thumb_ocr_text\"]].values\n",
    "print(ll.shape)\n",
    "print(df.shape)\n",
    "# for el in ll:\n",
    "#     print(\"=\"*100)\n",
    "#     print(el[1])\n",
    "#     print(\"=\"*100)\n",
    "#     print(el[0])\n"
   ]
  },
  {
   "cell_type": "code",
   "execution_count": null,
   "id": "center-belle",
   "metadata": {},
   "outputs": [],
   "source": []
  }
 ],
 "metadata": {
  "kernelspec": {
   "display_name": "Python 3",
   "language": "python",
   "name": "python3"
  },
  "language_info": {
   "codemirror_mode": {
    "name": "ipython",
    "version": 3
   },
   "file_extension": ".py",
   "mimetype": "text/x-python",
   "name": "python",
   "nbconvert_exporter": "python",
   "pygments_lexer": "ipython3",
   "version": "3.8.5"
  }
 },
 "nbformat": 4,
 "nbformat_minor": 5
}
