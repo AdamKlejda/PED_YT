{
 "cells": [
  {
   "cell_type": "markdown",
   "metadata": {},
   "source": [
    "## Importy"
   ]
  },
  {
   "cell_type": "code",
   "execution_count": 1,
   "metadata": {},
   "outputs": [
    {
     "name": "stderr",
     "output_type": "stream",
     "text": [
      "[nltk_data] Downloading package wordnet to /home/lilatee/nltk_data...\n",
      "[nltk_data]   Package wordnet is already up-to-date!\n",
      "[nltk_data] Downloading package stopwords to\n",
      "[nltk_data]     /home/lilatee/nltk_data...\n",
      "[nltk_data]   Package stopwords is already up-to-date!\n"
     ]
    }
   ],
   "source": [
    "import pandas as pd\n",
    "import numpy as np\n",
    "import string\n",
    "import json\n",
    "from IPython.display import display\n",
    "from nltk.stem import WordNetLemmatizer\n",
    "import nltk\n",
    "nltk.download('wordnet')\n",
    "nltk.download('stopwords')\n",
    "from nltk.corpus import stopwords\n",
    "from emoji import UNICODE_EMOJI\n",
    "import re\n",
    "import seaborn as sns\n",
    "import matplotlib.pyplot as plt\n",
    "from collections import Counter\n",
    "from  datetime import datetime\n",
    "\n",
    "pd.options.display.max_columns = None\n",
    "# Use 'display(df)' instead of 'df' to display all columns."
   ]
  },
  {
   "cell_type": "markdown",
   "metadata": {},
   "source": [
    "## Ładowanie danych"
   ]
  },
  {
   "cell_type": "markdown",
   "metadata": {},
   "source": [
    "### US region"
   ]
  },
  {
   "cell_type": "code",
   "execution_count": 2,
   "metadata": {},
   "outputs": [
    {
     "name": "stdout",
     "output_type": "stream",
     "text": [
      "(40949, 17)\n"
     ]
    },
    {
     "data": {
      "text/html": [
       "<div>\n",
       "<style scoped>\n",
       "    .dataframe tbody tr th:only-of-type {\n",
       "        vertical-align: middle;\n",
       "    }\n",
       "\n",
       "    .dataframe tbody tr th {\n",
       "        vertical-align: top;\n",
       "    }\n",
       "\n",
       "    .dataframe thead th {\n",
       "        text-align: right;\n",
       "    }\n",
       "</style>\n",
       "<table border=\"1\" class=\"dataframe\">\n",
       "  <thead>\n",
       "    <tr style=\"text-align: right;\">\n",
       "      <th></th>\n",
       "      <th>video_id</th>\n",
       "      <th>trending_date</th>\n",
       "      <th>title</th>\n",
       "      <th>channel_title</th>\n",
       "      <th>category_id</th>\n",
       "      <th>publish_time</th>\n",
       "      <th>tags</th>\n",
       "      <th>views</th>\n",
       "      <th>likes</th>\n",
       "      <th>dislikes</th>\n",
       "      <th>comment_count</th>\n",
       "      <th>thumbnail_link</th>\n",
       "      <th>comments_disabled</th>\n",
       "      <th>ratings_disabled</th>\n",
       "      <th>video_error_or_removed</th>\n",
       "      <th>description</th>\n",
       "      <th>region</th>\n",
       "    </tr>\n",
       "  </thead>\n",
       "  <tbody>\n",
       "    <tr>\n",
       "      <th>0</th>\n",
       "      <td>2kyS6SvSYSE</td>\n",
       "      <td>17.14.11</td>\n",
       "      <td>WE WANT TO TALK ABOUT OUR MARRIAGE</td>\n",
       "      <td>CaseyNeistat</td>\n",
       "      <td>NaN</td>\n",
       "      <td>2017-11-13T17:13:01.000Z</td>\n",
       "      <td>SHANtell martin</td>\n",
       "      <td>748374</td>\n",
       "      <td>57527</td>\n",
       "      <td>2966</td>\n",
       "      <td>15954</td>\n",
       "      <td>https://i.ytimg.com/vi/2kyS6SvSYSE/default.jpg</td>\n",
       "      <td>False</td>\n",
       "      <td>False</td>\n",
       "      <td>False</td>\n",
       "      <td>SHANTELL'S CHANNEL - https://www.youtube.com/s...</td>\n",
       "      <td>US</td>\n",
       "    </tr>\n",
       "  </tbody>\n",
       "</table>\n",
       "</div>"
      ],
      "text/plain": [
       "      video_id trending_date                               title  \\\n",
       "0  2kyS6SvSYSE      17.14.11  WE WANT TO TALK ABOUT OUR MARRIAGE   \n",
       "\n",
       "  channel_title  category_id              publish_time             tags  \\\n",
       "0  CaseyNeistat          NaN  2017-11-13T17:13:01.000Z  SHANtell martin   \n",
       "\n",
       "    views  likes  dislikes  comment_count  \\\n",
       "0  748374  57527      2966          15954   \n",
       "\n",
       "                                   thumbnail_link  comments_disabled  \\\n",
       "0  https://i.ytimg.com/vi/2kyS6SvSYSE/default.jpg              False   \n",
       "\n",
       "   ratings_disabled  video_error_or_removed  \\\n",
       "0             False                   False   \n",
       "\n",
       "                                        description  region  \n",
       "0  SHANTELL'S CHANNEL - https://www.youtube.com/s...     US  "
      ]
     },
     "execution_count": 2,
     "metadata": {},
     "output_type": "execute_result"
    }
   ],
   "source": [
    "ytUS_df = pd.read_csv(\"./data/youtube_data/US_videos_5p.csv\", sep=';')\n",
    "ytUS_df[\"region\"] = \"US\"\n",
    "print(ytUS_df.shape)\n",
    "ytUS_df = ytUS_df.loc[ytUS_df.video_id!=\"#NAZWA?\", :]\n",
    "ytUS_df[\"description \"] = ytUS_df[\"description \"].fillna(\"\") \n",
    "ytUS_df.head(1)"
   ]
  },
  {
   "cell_type": "markdown",
   "metadata": {},
   "source": [
    "### GB region"
   ]
  },
  {
   "cell_type": "code",
   "execution_count": 3,
   "metadata": {},
   "outputs": [
    {
     "name": "stdout",
     "output_type": "stream",
     "text": [
      "(38916, 17)\n"
     ]
    },
    {
     "data": {
      "text/html": [
       "<div>\n",
       "<style scoped>\n",
       "    .dataframe tbody tr th:only-of-type {\n",
       "        vertical-align: middle;\n",
       "    }\n",
       "\n",
       "    .dataframe tbody tr th {\n",
       "        vertical-align: top;\n",
       "    }\n",
       "\n",
       "    .dataframe thead th {\n",
       "        text-align: right;\n",
       "    }\n",
       "</style>\n",
       "<table border=\"1\" class=\"dataframe\">\n",
       "  <thead>\n",
       "    <tr style=\"text-align: right;\">\n",
       "      <th></th>\n",
       "      <th>video_id</th>\n",
       "      <th>trending_date</th>\n",
       "      <th>title</th>\n",
       "      <th>channel_title</th>\n",
       "      <th>category_id</th>\n",
       "      <th>publish_time</th>\n",
       "      <th>tags</th>\n",
       "      <th>views</th>\n",
       "      <th>likes</th>\n",
       "      <th>dislikes</th>\n",
       "      <th>comment_count</th>\n",
       "      <th>thumbnail_link</th>\n",
       "      <th>comments_disabled</th>\n",
       "      <th>ratings_disabled</th>\n",
       "      <th>video_error_or_removed</th>\n",
       "      <th>description</th>\n",
       "      <th>region</th>\n",
       "    </tr>\n",
       "  </thead>\n",
       "  <tbody>\n",
       "    <tr>\n",
       "      <th>0</th>\n",
       "      <td>Jw1Y-zhQURU</td>\n",
       "      <td>17.14.11</td>\n",
       "      <td>John Lewis Christmas Ad 2017 - #MozTheMonster</td>\n",
       "      <td>John Lewis</td>\n",
       "      <td>NaN</td>\n",
       "      <td>2017-11-10T07:38:29.000Z</td>\n",
       "      <td>christmas|\"john lewis christmas\"|\"john lewis\"|...</td>\n",
       "      <td>7224515</td>\n",
       "      <td>55681</td>\n",
       "      <td>10247</td>\n",
       "      <td>9479</td>\n",
       "      <td>https://i.ytimg.com/vi/Jw1Y-zhQURU/default.jpg</td>\n",
       "      <td>False</td>\n",
       "      <td>False</td>\n",
       "      <td>False</td>\n",
       "      <td>Click here to continue the story and make your...</td>\n",
       "      <td>GB</td>\n",
       "    </tr>\n",
       "  </tbody>\n",
       "</table>\n",
       "</div>"
      ],
      "text/plain": [
       "      video_id trending_date                                          title  \\\n",
       "0  Jw1Y-zhQURU      17.14.11  John Lewis Christmas Ad 2017 - #MozTheMonster   \n",
       "\n",
       "  channel_title  category_id              publish_time  \\\n",
       "0    John Lewis          NaN  2017-11-10T07:38:29.000Z   \n",
       "\n",
       "                                                tags    views  likes  \\\n",
       "0  christmas|\"john lewis christmas\"|\"john lewis\"|...  7224515  55681   \n",
       "\n",
       "   dislikes  comment_count                                  thumbnail_link  \\\n",
       "0     10247           9479  https://i.ytimg.com/vi/Jw1Y-zhQURU/default.jpg   \n",
       "\n",
       "   comments_disabled  ratings_disabled  video_error_or_removed  \\\n",
       "0              False             False                   False   \n",
       "\n",
       "                                        description  region  \n",
       "0  Click here to continue the story and make your...     GB  "
      ]
     },
     "execution_count": 3,
     "metadata": {},
     "output_type": "execute_result"
    }
   ],
   "source": [
    "# Encoding error. Open GB_videos_5p.csv in VSCode and save file as UTF-16 LE.\n",
    "ytGB_df = pd.read_csv(\"./data/youtube_data/GB_videos_5p.csv\", sep=';', encoding='utf_16')\n",
    "ytGB_df[\"region\"] = \"GB\"\n",
    "print(ytGB_df.shape)\n",
    "ytGB_df = ytGB_df.loc[ytGB_df.video_id!=\"#NAZWA?\", :]\n",
    "ytGB_df = ytGB_df.loc[ytGB_df.channel_title!=\"#NAZWA?\", :]\n",
    "ytGB_df[\"description \"] = ytGB_df[\"description \"].fillna(\"\") \n",
    "ytGB_df.head(1)"
   ]
  },
  {
   "cell_type": "markdown",
   "metadata": {},
   "source": [
    "### Scalenie obu regionów"
   ]
  },
  {
   "cell_type": "code",
   "execution_count": 4,
   "metadata": {},
   "outputs": [
    {
     "name": "stdout",
     "output_type": "stream",
     "text": [
      "(79137, 17)\n"
     ]
    },
    {
     "data": {
      "text/html": [
       "<div>\n",
       "<style scoped>\n",
       "    .dataframe tbody tr th:only-of-type {\n",
       "        vertical-align: middle;\n",
       "    }\n",
       "\n",
       "    .dataframe tbody tr th {\n",
       "        vertical-align: top;\n",
       "    }\n",
       "\n",
       "    .dataframe thead th {\n",
       "        text-align: right;\n",
       "    }\n",
       "</style>\n",
       "<table border=\"1\" class=\"dataframe\">\n",
       "  <thead>\n",
       "    <tr style=\"text-align: right;\">\n",
       "      <th></th>\n",
       "      <th>video_id</th>\n",
       "      <th>trending_date</th>\n",
       "      <th>title</th>\n",
       "      <th>channel_title</th>\n",
       "      <th>category_id</th>\n",
       "      <th>publish_time</th>\n",
       "      <th>tags</th>\n",
       "      <th>views</th>\n",
       "      <th>likes</th>\n",
       "      <th>dislikes</th>\n",
       "      <th>comment_count</th>\n",
       "      <th>thumbnail_link</th>\n",
       "      <th>comments_disabled</th>\n",
       "      <th>ratings_disabled</th>\n",
       "      <th>video_error_or_removed</th>\n",
       "      <th>description</th>\n",
       "      <th>region</th>\n",
       "    </tr>\n",
       "  </thead>\n",
       "  <tbody>\n",
       "    <tr>\n",
       "      <th>0</th>\n",
       "      <td>Jw1Y-zhQURU</td>\n",
       "      <td>17.14.11</td>\n",
       "      <td>John Lewis Christmas Ad 2017 - #MozTheMonster</td>\n",
       "      <td>John Lewis</td>\n",
       "      <td>NaN</td>\n",
       "      <td>2017-11-10T07:38:29.000Z</td>\n",
       "      <td>christmas|\"john lewis christmas\"|\"john lewis\"|...</td>\n",
       "      <td>7224515</td>\n",
       "      <td>55681</td>\n",
       "      <td>10247</td>\n",
       "      <td>9479</td>\n",
       "      <td>https://i.ytimg.com/vi/Jw1Y-zhQURU/default.jpg</td>\n",
       "      <td>False</td>\n",
       "      <td>False</td>\n",
       "      <td>False</td>\n",
       "      <td>Click here to continue the story and make your...</td>\n",
       "      <td>GB</td>\n",
       "    </tr>\n",
       "  </tbody>\n",
       "</table>\n",
       "</div>"
      ],
      "text/plain": [
       "      video_id trending_date                                          title  \\\n",
       "0  Jw1Y-zhQURU      17.14.11  John Lewis Christmas Ad 2017 - #MozTheMonster   \n",
       "\n",
       "  channel_title  category_id              publish_time  \\\n",
       "0    John Lewis          NaN  2017-11-10T07:38:29.000Z   \n",
       "\n",
       "                                                tags    views  likes  \\\n",
       "0  christmas|\"john lewis christmas\"|\"john lewis\"|...  7224515  55681   \n",
       "\n",
       "   dislikes  comment_count                                  thumbnail_link  \\\n",
       "0     10247           9479  https://i.ytimg.com/vi/Jw1Y-zhQURU/default.jpg   \n",
       "\n",
       "   comments_disabled  ratings_disabled  video_error_or_removed  \\\n",
       "0              False             False                   False   \n",
       "\n",
       "                                         description region  \n",
       "0  Click here to continue the story and make your...     GB  "
      ]
     },
     "execution_count": 4,
     "metadata": {},
     "output_type": "execute_result"
    }
   ],
   "source": [
    "df = pd.concat([ytGB_df, ytUS_df], ignore_index=True)\n",
    "print(df.shape)\n",
    "shapeOld = df.shape\n",
    "df.rename(columns={\"description \": \"description\"}, inplace=True)\n",
    "df.head(1)"
   ]
  },
  {
   "cell_type": "markdown",
   "metadata": {},
   "source": [
    "## Dodanie nowych kolumn"
   ]
  },
  {
   "cell_type": "code",
   "execution_count": null,
   "metadata": {},
   "outputs": [
    {
     "name": "stderr",
     "output_type": "stream",
     "text": [
      "[nltk_data] Downloading package wordnet to /home/lilatee/nltk_data...\n",
      "[nltk_data]   Package wordnet is already up-to-date!\n",
      "[nltk_data] Downloading package stopwords to\n",
      "[nltk_data]     /home/lilatee/nltk_data...\n",
      "[nltk_data]   Package stopwords is already up-to-date!\n",
      "/mnt/d/Documents/Uczelnia/Magisterka_Semestr3/PED/PED_YT/prepareCSV.py:125: SettingWithCopyWarning: \n",
      "A value is trying to be set on a copy of a slice from a DataFrame.\n",
      "Try using .loc[row_indexer,col_indexer] = value instead\n",
      "\n",
      "See the caveats in the documentation: https://pandas.pydata.org/pandas-docs/stable/user_guide/indexing.html#returning-a-view-versus-a-copy\n",
      "  df[\"avg_views_increase_per_hour\"] = df.apply(lambda row: row.views/row.time_to_trend_in_days, axis=1)\n",
      "/mnt/d/Documents/Uczelnia/Magisterka_Semestr3/PED/PED_YT/prepareCSV.py:127: SettingWithCopyWarning: \n",
      "A value is trying to be set on a copy of a slice from a DataFrame.\n",
      "Try using .loc[row_indexer,col_indexer] = value instead\n",
      "\n",
      "See the caveats in the documentation: https://pandas.pydata.org/pandas-docs/stable/user_guide/indexing.html#returning-a-view-versus-a-copy\n",
      "  df['tags'] = df['tags'].apply(lambda tags: json.dumps(tags.replace('\"','').split('|')))\n",
      "/mnt/d/Documents/Uczelnia/Magisterka_Semestr3/PED/PED_YT/prepareCSV.py:128: SettingWithCopyWarning: \n",
      "A value is trying to be set on a copy of a slice from a DataFrame.\n",
      "Try using .loc[row_indexer,col_indexer] = value instead\n",
      "\n",
      "See the caveats in the documentation: https://pandas.pydata.org/pandas-docs/stable/user_guide/indexing.html#returning-a-view-versus-a-copy\n",
      "  df[\"n_of_tags\"] = df.apply(lambda row: len(json.loads(row.tags)), axis=1)\n",
      "/mnt/d/Documents/Uczelnia/Magisterka_Semestr3/PED/PED_YT/prepareCSV.py:130: SettingWithCopyWarning: \n",
      "A value is trying to be set on a copy of a slice from a DataFrame.\n",
      "Try using .loc[row_indexer,col_indexer] = value instead\n",
      "\n",
      "See the caveats in the documentation: https://pandas.pydata.org/pandas-docs/stable/user_guide/indexing.html#returning-a-view-versus-a-copy\n",
      "  df[\"title_clean\"] = df.apply(lambda row: cleanText(row.title), axis=1)\n",
      "/mnt/d/Documents/Uczelnia/Magisterka_Semestr3/PED/PED_YT/prepareCSV.py:131: SettingWithCopyWarning: \n",
      "A value is trying to be set on a copy of a slice from a DataFrame.\n",
      "Try using .loc[row_indexer,col_indexer] = value instead\n",
      "\n",
      "See the caveats in the documentation: https://pandas.pydata.org/pandas-docs/stable/user_guide/indexing.html#returning-a-view-versus-a-copy\n",
      "  df[\"title_length\"] = df.apply(lambda row: len(row.title), axis=1)\n",
      "/mnt/d/Documents/Uczelnia/Magisterka_Semestr3/PED/PED_YT/prepareCSV.py:132: SettingWithCopyWarning: \n",
      "A value is trying to be set on a copy of a slice from a DataFrame.\n",
      "Try using .loc[row_indexer,col_indexer] = value instead\n",
      "\n",
      "See the caveats in the documentation: https://pandas.pydata.org/pandas-docs/stable/user_guide/indexing.html#returning-a-view-versus-a-copy\n",
      "  df[\"title_n_of_words\"] = df.apply(lambda row: len(row.title.split(' ')), axis=1)\n",
      "/mnt/d/Documents/Uczelnia/Magisterka_Semestr3/PED/PED_YT/prepareCSV.py:133: SettingWithCopyWarning: \n",
      "A value is trying to be set on a copy of a slice from a DataFrame.\n",
      "Try using .loc[row_indexer,col_indexer] = value instead\n",
      "\n",
      "See the caveats in the documentation: https://pandas.pydata.org/pandas-docs/stable/user_guide/indexing.html#returning-a-view-versus-a-copy\n",
      "  df[\"title_capital_letters\"] = df.apply(lambda row: sum(1 for l in row.title if l.isupper()), axis=1)\n",
      "/mnt/d/Documents/Uczelnia/Magisterka_Semestr3/PED/PED_YT/prepareCSV.py:134: SettingWithCopyWarning: \n",
      "A value is trying to be set on a copy of a slice from a DataFrame.\n",
      "Try using .loc[row_indexer,col_indexer] = value instead\n",
      "\n",
      "See the caveats in the documentation: https://pandas.pydata.org/pandas-docs/stable/user_guide/indexing.html#returning-a-view-versus-a-copy\n",
      "  df[\"title_capital_letters_percent\"] = df.apply(lambda row: row.title_capital_letters/row.title_length, axis=1)\n",
      "/mnt/d/Documents/Uczelnia/Magisterka_Semestr3/PED/PED_YT/prepareCSV.py:135: SettingWithCopyWarning: \n",
      "A value is trying to be set on a copy of a slice from a DataFrame.\n",
      "Try using .loc[row_indexer,col_indexer] = value instead\n",
      "\n",
      "See the caveats in the documentation: https://pandas.pydata.org/pandas-docs/stable/user_guide/indexing.html#returning-a-view-versus-a-copy\n",
      "  df[\"title_small_letters\"] = df.apply(lambda row: sum(1 for l in row.title if l.islower()), axis=1)\n",
      "/mnt/d/Documents/Uczelnia/Magisterka_Semestr3/PED/PED_YT/prepareCSV.py:136: SettingWithCopyWarning: \n",
      "A value is trying to be set on a copy of a slice from a DataFrame.\n",
      "Try using .loc[row_indexer,col_indexer] = value instead\n",
      "\n",
      "See the caveats in the documentation: https://pandas.pydata.org/pandas-docs/stable/user_guide/indexing.html#returning-a-view-versus-a-copy\n",
      "  df[\"title_small_letters_percent\"] = df.apply(lambda row: row.title_small_letters/row.title_length, axis=1)\n",
      "/mnt/d/Documents/Uczelnia/Magisterka_Semestr3/PED/PED_YT/prepareCSV.py:137: SettingWithCopyWarning: \n",
      "A value is trying to be set on a copy of a slice from a DataFrame.\n",
      "Try using .loc[row_indexer,col_indexer] = value instead\n",
      "\n",
      "See the caveats in the documentation: https://pandas.pydata.org/pandas-docs/stable/user_guide/indexing.html#returning-a-view-versus-a-copy\n",
      "  df[\"title_punctuation\"] = df.apply(lambda row: sum(1 for l in row.title if l in string.punctuation), axis=1)\n",
      "/mnt/d/Documents/Uczelnia/Magisterka_Semestr3/PED/PED_YT/prepareCSV.py:138: SettingWithCopyWarning: \n",
      "A value is trying to be set on a copy of a slice from a DataFrame.\n",
      "Try using .loc[row_indexer,col_indexer] = value instead\n",
      "\n",
      "See the caveats in the documentation: https://pandas.pydata.org/pandas-docs/stable/user_guide/indexing.html#returning-a-view-versus-a-copy\n",
      "  df[\"title_punctuation_percent\"] = df.apply(lambda row: sum(1 for l in row.title if l in string.punctuation)/len(row.title), axis=1)\n",
      "/mnt/d/Documents/Uczelnia/Magisterka_Semestr3/PED/PED_YT/prepareCSV.py:139: SettingWithCopyWarning: \n",
      "A value is trying to be set on a copy of a slice from a DataFrame.\n",
      "Try using .loc[row_indexer,col_indexer] = value instead\n",
      "\n",
      "See the caveats in the documentation: https://pandas.pydata.org/pandas-docs/stable/user_guide/indexing.html#returning-a-view-versus-a-copy\n",
      "  df[\"title_n_of_emojis\"] = df.apply(lambda row: str(countEmojis(row.title)), axis=1)\n"
     ]
    }
   ],
   "source": [
    "from prepareCSV import addColumnsAndSaveCSV\n",
    "df = addColumnsAndSaveCSV(df, \"./GB_US_new_columns.csv\")\n",
    "# df = pd.read_csv(\"./GB_US_new_columns.csv\")"
   ]
  },
  {
   "cell_type": "code",
   "execution_count": null,
   "metadata": {},
   "outputs": [],
   "source": [
    "df[:3]"
   ]
  },
  {
   "cell_type": "markdown",
   "metadata": {},
   "source": [
    "## Wizualizacja ciekawszych danych"
   ]
  },
  {
   "cell_type": "code",
   "execution_count": null,
   "metadata": {},
   "outputs": [],
   "source": [
    "print(\"Shape przed scaleniem filmmów i dodaniem kolumn:\", shapeOld)\n",
    "print(\"Shape po scaleniu filmów i dodaniu kolumn:\", df.shape)"
   ]
  },
  {
   "cell_type": "markdown",
   "metadata": {},
   "source": [
    "### Zakres czasu"
   ]
  },
  {
   "cell_type": "code",
   "execution_count": null,
   "metadata": {},
   "outputs": [],
   "source": [
    "tren_start = datetime.strptime(df[\"tren_date\"].min(), '%Y-%m-%d %H:%M:%S')\n",
    "tren_end = datetime.strptime(df[\"tren_date\"].max(), '%Y-%m-%d %H:%M:%S')\n",
    "print(\"Początek trending_date: \", tren_start)\n",
    "print(\"Koniec trending_date: \", tren_end)\n",
    "print(\"Zakres: \", tren_end-tren_start)\n",
    "print(\"=\"*100)\n",
    "\n",
    "pub_start = datetime.strptime(df[\"pub_date\"].min(), '%Y-%m-%d %H:%M:%S')\n",
    "pub_end = datetime.strptime(df[\"pub_date\"].max(), '%Y-%m-%d %H:%M:%S')\n",
    "print(\"Początek publish_date: \", pub_start)\n",
    "print(\"Koniec publish_date: \", pub_end)\n",
    "print(\"Zakres: \", pub_end-pub_start)\n"
   ]
  },
  {
   "cell_type": "markdown",
   "metadata": {},
   "source": [
    "### Liczba filmów miesiącami"
   ]
  },
  {
   "cell_type": "code",
   "execution_count": null,
   "metadata": {},
   "outputs": [],
   "source": [
    "print(\"\\n\")\n",
    "months_labels = ['January', 'February', 'March', 'April', 'May', 'June', 'July', 'August', 'September', 'October', 'November', 'December']\n",
    "fig, (ax1, ax2) = plt.subplots(nrows=2, figsize=(16, 8), sharex=True)\n",
    "fig.suptitle(\"Number of videos per month\")\n",
    "\n",
    "data = df['tren_month'].value_counts(sort=False).sort_index()\n",
    "months = data.keys()\n",
    "ax1.set_title(\"by trending_date\")\n",
    "ax1.bar(months, data, color='tab:blue', label=\"by trending_date\")\n",
    "\n",
    "\n",
    "data = df['pub_month'].value_counts(sort=False).sort_index()\n",
    "months = data.keys()\n",
    "ax2.set_title(\"by publish_date\")\n",
    "ax2.bar(months, data, color='tab:orange', label=\"by publish_date\")\n",
    "ax2.set_xlabel ('Month')\n",
    "\n",
    "    \n",
    "# fig.text(0.04, 0.5, 'Number of videos', va='center', rotation='vertical')\n",
    "fig.legend()\n",
    "plt.xticks(ticks=np.arange(1, 13, 1), labels=months_labels)\n",
    "plt.show()"
   ]
  },
  {
   "cell_type": "markdown",
   "metadata": {},
   "source": [
    "### Różne statystyki liczbowe"
   ]
  },
  {
   "cell_type": "code",
   "execution_count": null,
   "metadata": {},
   "outputs": [],
   "source": [
    "list_of_columns = [\n",
    "    \"title_length\", \"desc_length\", \n",
    "#     \"title_capital_letters\", \"desc_capital_letters\", \n",
    "    \"title_capital_letters_percent\", \"desc_capital_letters_percent\", \n",
    "#     \"title_small_letters\", \"desc_small_letters\", \n",
    "    \"title_small_letters_percent\",  \"desc_small_letters_percent\", \n",
    "    \"title_punctuation\", \"desc_punctuation\",\n",
    "    \"title_punctuation_percent\", \"desc_punctuation_percent\",\n",
    "    \"title_n_of_emojis\", \"desc_n_of_emojis\",\n",
    "    \"title_n_of_words\", \"desc_n_of_words\",\n",
    "    \"desc_n_of_urls\",  \"n_of_tags\",\n",
    "#     \"likes\", \"dislikes\",\n",
    "#     \"views\", \"comment_count\"\n",
    "                  ]\n",
    "n_of_cols = 2\n",
    "n_of_rows = int(len(list_of_columns)/n_of_cols)\n",
    "fig, axes = plt.subplots(n_of_rows, n_of_cols, figsize=(n_of_cols*6, n_of_rows*4))\n",
    "\n",
    "data = df.loc[:, list_of_columns]\n",
    "for i, row in enumerate(axes):\n",
    "    for j, ax in enumerate(row):\n",
    "        ax.set_title(list_of_columns[i*n_of_cols+j])\n",
    "        sns.violinplot(ax=ax,data=df.loc[:, list_of_columns[i*n_of_cols+j]])"
   ]
  },
  {
   "cell_type": "markdown",
   "metadata": {},
   "source": [
    "### Statystyki umieszczania linków do kont społecznościowych"
   ]
  },
  {
   "cell_type": "code",
   "execution_count": null,
   "metadata": {},
   "outputs": [],
   "source": [
    "fig, axes = plt.subplots(1, 3, figsize=(10, 3), sharey=True)\n",
    "\n",
    "axes[0].set_title(\"Facebook\")\n",
    "sns.countplot(ax=axes[0], x=\"isFacebook\", data=df)\n",
    "\n",
    "axes[1].set_title(\"Twitter\")\n",
    "sns.countplot(ax=axes[1], x=\"isTwitter\", data=df)\n",
    "\n",
    "axes[2].set_title(\"Instagram\")\n",
    "sns.countplot(ax=axes[2], x=\"isInstagram\", data=df)"
   ]
  },
  {
   "cell_type": "markdown",
   "metadata": {},
   "source": [
    "### 20 najpopularniejszych słów w tagach"
   ]
  },
  {
   "cell_type": "code",
   "execution_count": null,
   "metadata": {},
   "outputs": [],
   "source": [
    "all_tags_words = []\n",
    "for tags in df.loc[:,\"tags\"]:\n",
    "    tags = json.loads(tags.lower())\n",
    "    single_words = ' '.join(tags).split(' ')\n",
    "    all_tags_words.extend(single_words)\n",
    "    \n",
    "all_words_without_stopwords = [word for word in all_tags_words if word not in stopwords.words('english')]\n",
    "\n",
    "wnl = WordNetLemmatizer()\n",
    "all_words_lemmatized = [wnl.lemmatize(word) for word in all_words_without_stopwords]\n",
    "\n",
    "\n",
    "cnt_tags = Counter(all_words_lemmatized)\n",
    "cnt_tags = cnt_tags.most_common()\n",
    "\n",
    "xx, yy = zip(*cnt_tags[:20])\n",
    "plt.figure(figsize=(16,8))\n",
    "sns.barplot(x=list(xx),y=list(yy))\n",
    "plt.xlabel(\"Słowa\")\n",
    "plt.ylabel(\"Liczba wystąpień\")\n",
    "plt.title(\"Najpopularniejsze tagi\")"
   ]
  },
  {
   "cell_type": "markdown",
   "metadata": {},
   "source": [
    "### 20 najpopularniejszych słów w tytułach"
   ]
  },
  {
   "cell_type": "code",
   "execution_count": null,
   "metadata": {},
   "outputs": [],
   "source": [
    "all_words_title = []\n",
    "for title in df.loc[:,\"title_clean\"]:\n",
    "    single_words = str(title).split(' ')\n",
    "    all_words_title.extend(single_words)\n",
    "    \n",
    "cnt_title = Counter(all_words_title)\n",
    "cnt_title = cnt_title.most_common()\n",
    "\n",
    "xx, yy = zip(*cnt_title[:20])\n",
    "plt.figure(figsize=(16,8))\n",
    "sns.barplot(x=list(xx),y=list(yy))\n",
    "plt.xlabel(\"Słowa\")\n",
    "plt.ylabel(\"Liczba wystąpień\")\n",
    "plt.title(\"Najpopularniejsze słowa w tytułach\")"
   ]
  },
  {
   "cell_type": "markdown",
   "metadata": {},
   "source": [
    "### Opis podstawowych statystyk dla filmów.\n",
    "#### W statystyce znajdują się tylko pierwsze wystapienia filmu w liście trending "
   ]
  },
  {
   "cell_type": "code",
   "execution_count": null,
   "metadata": {},
   "outputs": [],
   "source": [
    "display(df.describe()[['views','likes','dislikes','comment_count']])\n",
    "\n",
    "sns.set_style(\"whitegrid\")\n",
    "data = df[['views','likes','dislikes','comment_count']]\n",
    "ax = sns.boxplot(data=data)\n",
    "ax.set(yscale=\"log\")\n",
    "plt.show()"
   ]
  },
  {
   "cell_type": "markdown",
   "metadata": {},
   "source": [
    "### Proporcje podstawowych statystyk.\n",
    "#### W statystyce znajdują się tylko pierwsze wystapienia filmu w liście trending "
   ]
  },
  {
   "cell_type": "code",
   "execution_count": null,
   "metadata": {},
   "outputs": [],
   "source": [
    "display(df.describe()[['dislikes/likes','likes/views','dislikes/views','comment_count/views']])\n",
    "\n",
    "sns.set_style(\"whitegrid\")\n",
    "data = df[['dislikes/likes','likes/views','dislikes/views','comment_count/views']]\n",
    "ax = sns.boxplot( data=data)\n",
    "ax.set(yscale=\"log\")\n",
    "plt.show()"
   ]
  },
  {
   "cell_type": "markdown",
   "metadata": {},
   "source": [
    "### Wzrost podstawowych statysyk po pierwszym wystąpieniu w trending \n",
    "#### Rozważamy filmy  które wystąpiły ponownie w trending"
   ]
  },
  {
   "cell_type": "code",
   "execution_count": null,
   "metadata": {},
   "outputs": [],
   "source": [
    "sns.set_style(\"whitegrid\")\n",
    "display(df.describe()[['increase_views','increase_likes','increase_dislikes','increase_comms']])\n",
    "\n",
    "data = df[['increase_views','increase_likes','increase_dislikes','increase_comms']]\n",
    "ax = sns.boxplot( data=data)\n",
    "ax.set(yscale=\"log\")\n",
    "plt.show()\n"
   ]
  },
  {
   "cell_type": "markdown",
   "metadata": {},
   "source": [
    "### Czas od publikacji do pierwszego wystąpienia w trending\n"
   ]
  },
  {
   "cell_type": "code",
   "execution_count": null,
   "metadata": {},
   "outputs": [],
   "source": [
    "display(df.describe()[['time_to_trend_in_days']])\n",
    "\n",
    "sns.set_style(\"whitegrid\")\n",
    "data = df[['time_to_trend_in_days']]\n",
    "ax = sns.boxplot( data=data)\n",
    "ax.set(yscale=\"log\")\n",
    "plt.show()"
   ]
  },
  {
   "cell_type": "code",
   "execution_count": null,
   "metadata": {},
   "outputs": [],
   "source": [
    "labels = ['Monday', 'Tuesday', 'Wednesday', 'Thursday', 'Friday', 'Saturday', 'Sunday']\n",
    "\n",
    "data17 = df[df[\"tren_year\"]==2017]['pub_day_of_the_week'].value_counts(sort=False)[df[\"pub_day_of_the_week\"].unique()]\n",
    "data18 = df[df[\"tren_year\"]==2018]['pub_day_of_the_week'].value_counts(sort=False)[df[\"pub_day_of_the_week\"].unique()]\n",
    "\n",
    "days = data17.keys()#[0,6,4,5,3,1,2]\n",
    "\n",
    "\n",
    "fig, ax = plt.subplots(2,1,figsize=(10,10))\n",
    "fig.tight_layout(h_pad=4)\n",
    "ax[0].bar(days,data17,0.35,label=\"2017\")\n",
    "ax[0].bar(days,data18,0.35,bottom=data17,label=\"2018\")\n",
    "ax[0].set_xlabel ('Day of Week')\n",
    "ax[0].set_ylabel ('Number of videos')\n",
    "ax[0].set_title(\"Number of videos per day of week (pub day)\")\n",
    "ax[0].set_xticks([0,1,2,3,4,5,6])\n",
    "ax[0].set_xticklabels(labels)\n",
    "\n",
    "data17 = df[df[\"tren_year\"]==2017]['tren_day_of_the_week'].value_counts(sort=False)[df[\"tren_day_of_the_week\"].unique()]\n",
    "data18 = df[df[\"tren_year\"]==2018]['tren_day_of_the_week'].value_counts(sort=False)[df[\"tren_day_of_the_week\"].unique()]\n",
    "\n",
    "days = data17.keys()\n",
    "\n",
    "ax[1].bar(days,data17,0.35,label=\"2017\")\n",
    "ax[1].bar(days,data18,0.35,bottom=data17,label=\"2018\")\n",
    "ax[1].set_xlabel ('Day of Week')\n",
    "ax[1].set_ylabel ('Number of videos')\n",
    "ax[1].set_title(\"Number of videos per day of week (tren day)\")\n",
    "ax[1].set_xticks([0,1,2,3,4,5,6])\n",
    "ax[1].set_xticklabels(labels)\n",
    "plt.show()"
   ]
  },
  {
   "cell_type": "code",
   "execution_count": null,
   "metadata": {},
   "outputs": [],
   "source": []
  },
  {
   "cell_type": "code",
   "execution_count": null,
   "metadata": {},
   "outputs": [],
   "source": []
  },
  {
   "cell_type": "code",
   "execution_count": null,
   "metadata": {},
   "outputs": [],
   "source": []
  },
  {
   "cell_type": "code",
   "execution_count": null,
   "metadata": {},
   "outputs": [],
   "source": []
  },
  {
   "cell_type": "code",
   "execution_count": null,
   "metadata": {},
   "outputs": [],
   "source": []
  }
 ],
 "metadata": {
  "kernelspec": {
   "display_name": "Python 3",
   "language": "python",
   "name": "python3"
  },
  "language_info": {
   "codemirror_mode": {
    "name": "ipython",
    "version": 3
   },
   "file_extension": ".py",
   "mimetype": "text/x-python",
   "name": "python",
   "nbconvert_exporter": "python",
   "pygments_lexer": "ipython3",
   "version": "3.8.5"
  }
 },
 "nbformat": 4,
 "nbformat_minor": 4
}
