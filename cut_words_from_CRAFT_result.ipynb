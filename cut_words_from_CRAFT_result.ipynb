{
 "cells": [
  {
   "cell_type": "markdown",
   "id": "third-implementation",
   "metadata": {},
   "source": [
    "Wycina fragmenty obrazów zawierające wykryte przez CRAFT napisy. Fragmenty zapisywane są w folderach nazwanych z użyciem id filmu."
   ]
  },
  {
   "cell_type": "code",
   "execution_count": 31,
   "id": "monthly-single",
   "metadata": {
    "tags": []
   },
   "outputs": [
    {
     "name": "stderr",
     "output_type": "stream",
     "text": [
      "<ipython-input-31-e4e3d495332b>:38: UserWarning: data/CRAFT_result_GB/words/c5E9Rns3HOo/1.png is a low contrast image\n",
      "  io.imsave(img_dir / f\"{i}.png\", img_slice)\n",
      "<ipython-input-31-e4e3d495332b>:38: UserWarning: data/CRAFT_result_GB/words/cIQKKzZtWwQ/0.png is a low contrast image\n",
      "  io.imsave(img_dir / f\"{i}.png\", img_slice)\n",
      "<ipython-input-31-e4e3d495332b>:38: UserWarning: data/CRAFT_result_GB/words/fzCct3j-pH8/5.png is a low contrast image\n",
      "  io.imsave(img_dir / f\"{i}.png\", img_slice)\n",
      "<ipython-input-31-e4e3d495332b>:38: UserWarning: data/CRAFT_result_GB/words/ryr75N0nki0/0.png is a low contrast image\n",
      "  io.imsave(img_dir / f\"{i}.png\", img_slice)\n",
      "<ipython-input-31-e4e3d495332b>:38: UserWarning: data/CRAFT_result_GB/words/UceaB4D0jpo/0.png is a low contrast image\n",
      "  io.imsave(img_dir / f\"{i}.png\", img_slice)\n"
     ]
    }
   ],
   "source": [
    "from skimage import io\n",
    "import numpy as np\n",
    "from pathlib import Path\n",
    "import glob\n",
    "\n",
    "def bounding_box(points):\n",
    "    x_coordinates, y_coordinates = zip(*points)\n",
    "    return [(min(x_coordinates), min(y_coordinates)), (max(x_coordinates), max(y_coordinates))]\n",
    "\n",
    "CRAFT_path_results = Path(\"./data/CRAFT_result_GB/\")\n",
    "path_images = Path(\"./data/thumbnailsHQ/GB\")\n",
    "\n",
    "for j, img_path in enumerate(glob.glob(str(path_images) + \"/*.png\")):\n",
    "    img_path = Path(img_path)\n",
    "    img = io.imread(img_path)\n",
    "    shape = img.shape\n",
    "    \n",
    "    bboxes_path = CRAFT_path_results / ('res_' + img_path.stem + \".txt\")\n",
    "    bboxes = []\n",
    "    with open(bboxes_path, \"r\") as bboxFile:\n",
    "        for line in bboxFile.readlines():\n",
    "            numbers = np.array(line.split(',')).astype(int)\n",
    "            points = []\n",
    "            \n",
    "            for x,y in zip(numbers[::2], numbers[1::2]):\n",
    "                points.append((x, y))\n",
    "            bboxes.append(bounding_box(points))\n",
    "\n",
    "    \n",
    "    if len(bboxes) > 0:\n",
    "            Path(CRAFT_path_results / \"words\" / img_path.stem).mkdir(parents=True, exist_ok=True)\n",
    "            img_dir = Path(CRAFT_path_results / \"words\" / img_path.stem)\n",
    "    \n",
    "    for i, bbox in enumerate(bboxes):\n",
    "\n",
    "        img_slice = img[max(bbox[0][1], 0): min(bbox[1][1], shape[0]), max(bbox[0][0], 0):min(bbox[1][0], shape[1])]\n",
    "        io.imsave(img_dir / f\"{i}.png\", img_slice)\n",
    "\n",
    "#     if j == 100:\n",
    "#         break\n"
   ]
  },
  {
   "cell_type": "markdown",
   "id": "strategic-butler",
   "metadata": {},
   "source": [
    "Teraz OCR na fragmentach zawierających napisy. Wynikiem jest df z kolumnami [video_id, \"word_id\", \"ocr_text\"]."
   ]
  },
  {
   "cell_type": "code",
   "execution_count": 9,
   "id": "amateur-subsection",
   "metadata": {},
   "outputs": [
    {
     "name": "stdout",
     "output_type": "stream",
     "text": [
      "Collecting lmdb\n",
      "  Using cached lmdb-1.1.1-cp38-cp38-manylinux2010_x86_64.whl (306 kB)\n",
      "Requirement already satisfied: pillow in /home/lilatee/.local/lib/python3.8/site-packages (8.1.2)\n",
      "Requirement already satisfied: nltk in /home/lilatee/.local/lib/python3.8/site-packages (3.5)\n",
      "Collecting natsort\n",
      "  Using cached natsort-7.1.1-py3-none-any.whl (35 kB)\n",
      "Requirement already satisfied: click in /usr/lib/python3/dist-packages (from nltk) (7.0)\n",
      "Requirement already satisfied: joblib in /home/lilatee/.local/lib/python3.8/site-packages (from nltk) (1.0.1)\n",
      "Requirement already satisfied: regex in /home/lilatee/.local/lib/python3.8/site-packages (from nltk) (2021.3.17)\n",
      "Requirement already satisfied: tqdm in /home/lilatee/.local/lib/python3.8/site-packages (from nltk) (4.59.0)\n",
      "Installing collected packages: lmdb, natsort\n",
      "Successfully installed lmdb-1.1.1 natsort-7.1.1\n",
      "Note: you may need to restart the kernel to use updated packages.\n"
     ]
    }
   ],
   "source": [
    "# %pip install -r CRAFT-pytorch/requirements.txt\n",
    "# %pip install lmdb pillow nltk natsort"
   ]
  },
  {
   "cell_type": "code",
   "execution_count": 1,
   "id": "frequent-marking",
   "metadata": {},
   "outputs": [
    {
     "name": "stdout",
     "output_type": "stream",
     "text": [
      "model input parameters 32 100 20 1 512 256 38 25 TPS ResNet BiLSTM Attn\n",
      "loading pretrained model from deep-text-recognition-benchmark/TPS-ResNet-BiLSTM-Attn.pth\n"
     ]
    }
   ],
   "source": [
    "%run deep-text-recognition-benchmark/demo_modified.py \\\n",
    "--Transformation TPS \\\n",
    "--FeatureExtraction ResNet \\\n",
    "--SequenceModeling BiLSTM \\\n",
    "--Prediction Attn \\\n",
    "--image_folder \"data/CRAFT_result_GB/words/\" \\\n",
    "--saved_model \"deep-text-recognition-benchmark/TPS-ResNet-BiLSTM-Attn.pth\" \\\n",
    "--out_df_path \"our_data/etap2_ocr_GB.csv\""
   ]
  },
  {
   "cell_type": "code",
   "execution_count": null,
   "id": "compact-matrix",
   "metadata": {},
   "outputs": [],
   "source": []
  }
 ],
 "metadata": {
  "kernelspec": {
   "display_name": "Python 3",
   "language": "python",
   "name": "python3"
  },
  "language_info": {
   "codemirror_mode": {
    "name": "ipython",
    "version": 3
   },
   "file_extension": ".py",
   "mimetype": "text/x-python",
   "name": "python",
   "nbconvert_exporter": "python",
   "pygments_lexer": "ipython3",
   "version": "3.8.5"
  }
 },
 "nbformat": 4,
 "nbformat_minor": 5
}
